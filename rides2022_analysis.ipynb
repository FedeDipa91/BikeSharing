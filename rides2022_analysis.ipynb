{
 "cells": [
  {
   "cell_type": "code",
   "execution_count": 48,
   "metadata": {},
   "outputs": [],
   "source": [
    "import pandas as pd\n",
    "from sqlalchemy import create_engine\n",
    "import pymysql\n",
    "import os\n",
    "import matplotlib.pyplot as plt"
   ]
  },
  {
   "cell_type": "code",
   "execution_count": 14,
   "metadata": {},
   "outputs": [],
   "source": [
    "database = os.getenv('BikeSharing_DB')\n",
    "username = os.getenv('BikeSharing_User')\n",
    "password = os.getenv('BikeSharing_Pass')\n",
    "host = os.getenv('BikeSharing_Host')\n",
    "port = os.getenv('BikeSharing_Port')\n",
    "\n",
    "try:\n",
    "    connection_string = f\"mysql+pymysql://{username}:{password}@{host}:{port}/{database}\"\n",
    "    engine = create_engine(connection_string)\n",
    "\n",
    "except Exception as e:\n",
    "    print(f\"Error al conectar a la base de datos: {e}\")\n"
   ]
  },
  {
   "cell_type": "code",
   "execution_count": 15,
   "metadata": {},
   "outputs": [],
   "source": [
    "query = \"SELECT * FROM rides_2022\"\n",
    "df_rides = pd.read_sql(query, connection_string)\n",
    "\n",
    "query = \"SELECT * FROM dim_rideable_type\"\n",
    "df_rideable_type = pd.read_sql(query, connection_string)\n",
    "\n",
    "query = \"SELECT * FROM dim_station\"\n",
    "df_station = pd.read_sql(query, connection_string)\n",
    "\n",
    "query = \"SELECT * FROM dim_user_type\"\n",
    "df_user_type = pd.read_sql(query, connection_string)\n"
   ]
  },
  {
   "cell_type": "code",
   "execution_count": 17,
   "metadata": {},
   "outputs": [
    {
     "data": {
      "text/plain": [
       "ride_id                  0\n",
       "rideable_id              0\n",
       "started_at               0\n",
       "ended_at                 0\n",
       "start_station_id    833064\n",
       "end_station_id      892742\n",
       "start_lat                0\n",
       "start_lng                0\n",
       "end_lat               5858\n",
       "end_lng               5858\n",
       "user_type_id             0\n",
       "dtype: int64"
      ]
     },
     "execution_count": 17,
     "metadata": {},
     "output_type": "execute_result"
    }
   ],
   "source": [
    "#Integrety check\n",
    "df_rides.isnull().sum()"
   ]
  },
  {
   "cell_type": "code",
   "execution_count": 19,
   "metadata": {},
   "outputs": [
    {
     "data": {
      "text/html": [
       "<div>\n",
       "<style scoped>\n",
       "    .dataframe tbody tr th:only-of-type {\n",
       "        vertical-align: middle;\n",
       "    }\n",
       "\n",
       "    .dataframe tbody tr th {\n",
       "        vertical-align: top;\n",
       "    }\n",
       "\n",
       "    .dataframe thead th {\n",
       "        text-align: right;\n",
       "    }\n",
       "</style>\n",
       "<table border=\"1\" class=\"dataframe\">\n",
       "  <thead>\n",
       "    <tr style=\"text-align: right;\">\n",
       "      <th></th>\n",
       "      <th>rideable_id</th>\n",
       "      <th>start_lat</th>\n",
       "      <th>start_lng</th>\n",
       "      <th>end_lat</th>\n",
       "      <th>end_lng</th>\n",
       "      <th>user_type_id</th>\n",
       "    </tr>\n",
       "  </thead>\n",
       "  <tbody>\n",
       "    <tr>\n",
       "      <th>count</th>\n",
       "      <td>5667717.00</td>\n",
       "      <td>5667717.00</td>\n",
       "      <td>5667717.00</td>\n",
       "      <td>5661859.00</td>\n",
       "      <td>5661859.00</td>\n",
       "      <td>5667717.00</td>\n",
       "    </tr>\n",
       "    <tr>\n",
       "      <th>mean</th>\n",
       "      <td>1.52</td>\n",
       "      <td>41.90</td>\n",
       "      <td>-87.65</td>\n",
       "      <td>41.90</td>\n",
       "      <td>-87.65</td>\n",
       "      <td>1.59</td>\n",
       "    </tr>\n",
       "    <tr>\n",
       "      <th>std</th>\n",
       "      <td>0.56</td>\n",
       "      <td>0.05</td>\n",
       "      <td>0.03</td>\n",
       "      <td>0.07</td>\n",
       "      <td>0.11</td>\n",
       "      <td>0.49</td>\n",
       "    </tr>\n",
       "    <tr>\n",
       "      <th>min</th>\n",
       "      <td>1.00</td>\n",
       "      <td>41.64</td>\n",
       "      <td>-87.84</td>\n",
       "      <td>0.00</td>\n",
       "      <td>-88.14</td>\n",
       "      <td>1.00</td>\n",
       "    </tr>\n",
       "    <tr>\n",
       "      <th>25%</th>\n",
       "      <td>1.00</td>\n",
       "      <td>41.88</td>\n",
       "      <td>-87.66</td>\n",
       "      <td>41.88</td>\n",
       "      <td>-87.66</td>\n",
       "      <td>1.00</td>\n",
       "    </tr>\n",
       "    <tr>\n",
       "      <th>50%</th>\n",
       "      <td>1.00</td>\n",
       "      <td>41.90</td>\n",
       "      <td>-87.64</td>\n",
       "      <td>41.90</td>\n",
       "      <td>-87.64</td>\n",
       "      <td>2.00</td>\n",
       "    </tr>\n",
       "    <tr>\n",
       "      <th>75%</th>\n",
       "      <td>2.00</td>\n",
       "      <td>41.93</td>\n",
       "      <td>-87.63</td>\n",
       "      <td>41.93</td>\n",
       "      <td>-87.63</td>\n",
       "      <td>2.00</td>\n",
       "    </tr>\n",
       "    <tr>\n",
       "      <th>max</th>\n",
       "      <td>3.00</td>\n",
       "      <td>45.64</td>\n",
       "      <td>-73.80</td>\n",
       "      <td>42.37</td>\n",
       "      <td>0.00</td>\n",
       "      <td>2.00</td>\n",
       "    </tr>\n",
       "  </tbody>\n",
       "</table>\n",
       "</div>"
      ],
      "text/plain": [
       "       rideable_id  start_lat  start_lng    end_lat    end_lng  user_type_id\n",
       "count   5667717.00 5667717.00 5667717.00 5661859.00 5661859.00    5667717.00\n",
       "mean          1.52      41.90     -87.65      41.90     -87.65          1.59\n",
       "std           0.56       0.05       0.03       0.07       0.11          0.49\n",
       "min           1.00      41.64     -87.84       0.00     -88.14          1.00\n",
       "25%           1.00      41.88     -87.66      41.88     -87.66          1.00\n",
       "50%           1.00      41.90     -87.64      41.90     -87.64          2.00\n",
       "75%           2.00      41.93     -87.63      41.93     -87.63          2.00\n",
       "max           3.00      45.64     -73.80      42.37       0.00          2.00"
      ]
     },
     "execution_count": 19,
     "metadata": {},
     "output_type": "execute_result"
    }
   ],
   "source": [
    "pd.set_option('display.float_format', lambda x: '%.2f' % x)\n",
    "df_rides.describe()\n"
   ]
  },
  {
   "cell_type": "code",
   "execution_count": 54,
   "metadata": {},
   "outputs": [
    {
     "data": {
      "text/plain": [
       "count                      5667717\n",
       "mean     0 days 00:19:26.597144670\n",
       "std      0 days 02:56:07.687857087\n",
       "min              -8 days +19:26:39\n",
       "25%                0 days 00:05:49\n",
       "50%                0 days 00:10:17\n",
       "75%                0 days 00:18:28\n",
       "max               28 days 17:47:15\n",
       "Name: duration, dtype: object"
      ]
     },
     "execution_count": 54,
     "metadata": {},
     "output_type": "execute_result"
    }
   ],
   "source": [
    "df_rides['duration'].describe()"
   ]
  },
  {
   "cell_type": "code",
   "execution_count": 61,
   "metadata": {},
   "outputs": [],
   "source": [
    "\n",
    "# Convert 'started_at' y 'ended_at' to datetime \n",
    "df_rides['started_at'] = pd.to_datetime(df_rides['started_at'])\n",
    "df_rides['ended_at'] = pd.to_datetime(df_rides['ended_at'])\n",
    "\n",
    "# Calcular la duración del viaje\n",
    "df_rides['duration'] = df_rides['ended_at'] - df_rides['started_at']\n",
    "\n",
    "# Filtrar para eliminar viajes con duración negativa o igual a cero\n",
    "df_rides_filtered = df_rides[df_rides['duration'] > pd.Timedelta(0)]\n",
    "\n"
   ]
  },
  {
   "cell_type": "code",
   "execution_count": 62,
   "metadata": {},
   "outputs": [
    {
     "name": "stdout",
     "output_type": "stream",
     "text": [
      "All durations are positive and greater than 0.\n"
     ]
    }
   ],
   "source": [
    "# Verify that all durations are greater than 0\n",
    "assert (df_rides_filtered['duration'] > pd.Timedelta(0)).all(), \"There are negative or duration with 00:00:00 in the df.\"\n",
    "\n",
    "print(\"All durations are positive and greater than 0.\")\n"
   ]
  },
  {
   "cell_type": "code",
   "execution_count": 63,
   "metadata": {},
   "outputs": [
    {
     "data": {
      "text/plain": [
       "count                      5667186\n",
       "mean     0 days 00:19:26.845749901\n",
       "std      0 days 02:56:04.932799822\n",
       "min                0 days 00:00:01\n",
       "25%                0 days 00:05:49\n",
       "50%                0 days 00:10:17\n",
       "75%                0 days 00:18:28\n",
       "max               28 days 17:47:15\n",
       "Name: duration, dtype: object"
      ]
     },
     "execution_count": 63,
     "metadata": {},
     "output_type": "execute_result"
    }
   ],
   "source": [
    "df_rides_filtered['duration'].describe()"
   ]
  },
  {
   "cell_type": "code",
   "execution_count": 65,
   "metadata": {},
   "outputs": [],
   "source": [
    "# # Convert duration to seconds to calculate std and mean\n",
    "# duration_seconds = df_rides_filtered['duration'].dt.total_seconds()\n",
    "\n",
    "# mean_duration = duration_seconds.mean()\n",
    "# print(\"mean\", mean_duration)\n",
    "# std_duration = duration_seconds.std()\n",
    "# print(\"std\", std_duration)\n",
    "\n",
    "# #Set limits for outliers\n",
    "\n",
    "# lower_limit = mean_duration - (3 * std_duration)\n",
    "# upper_limit = mean_duration + (3 * std_duration)\n",
    "\n",
    "# df_rides_filtered = df_rides_filtered[\n",
    "#     (duration_seconds >= lower_limit) & (duration_seconds <= upper_limit)]"
   ]
  },
  {
   "cell_type": "code",
   "execution_count": 73,
   "metadata": {},
   "outputs": [
    {
     "data": {
      "image/png": "[encoded data removed]",
      "text/plain": [
       "<Figure size 1000x600 with 1 Axes>"
      ]
     },
     "metadata": {},
     "output_type": "display_data"
    }
   ],
   "source": [
    "import matplotlib.pyplot as plt\n",
    "\n",
    "# Convertir la duración a minutos\n",
    "duration_minutes = df_rides_filtered['duration'].dt.total_seconds() / 60\n",
    "\n",
    "# Crear el histograma\n",
    "plt.figure(figsize=(10, 6))\n",
    "plt.hist(duration_minutes, bins=range(0, 301, 5), edgecolor='black')  # Bins de 5 minutos hasta 300 minutos\n",
    "plt.title('Distribución de Duración de los Viajes')\n",
    "plt.xlabel('Duración (minutos)')\n",
    "plt.ylabel('Frecuencia')\n",
    "plt.xlim(0, 200)  # Limitar el eje x a 300 minutos\n",
    "\n",
    "# Mostrar el histograma\n",
    "plt.show()\n",
    "\n"
   ]
  },
  {
   "cell_type": "code",
   "execution_count": 74,
   "metadata": {},
   "outputs": [
    {
     "data": {
      "image/png": "[encoded data removed]",
      "text/plain": [
       "<Figure size 1000x600 with 1 Axes>"
      ]
     },
     "metadata": {},
     "output_type": "display_data"
    }
   ],
   "source": [
    "import matplotlib.pyplot as plt\n",
    "\n",
    "# Asumiendo que duration_minutes ya está calculado\n",
    "# Convertir la duración a minutos si no lo has hecho\n",
    "# duration_minutes = df_rides_filtered['duration'].dt.total_seconds() / 60\n",
    "\n",
    "# Crear el box plot\n",
    "plt.figure(figsize=(10, 6))\n",
    "plt.boxplot(duration_minutes, vert=False)  # vert=False para un box plot horizontal\n",
    "plt.title('Box Plot de Duración de los Viajes')\n",
    "plt.xlabel('Duración (minutos)')\n",
    "\n",
    "# Mostrar el box plot\n",
    "plt.show()\n"
   ]
  },
  {
   "cell_type": "code",
   "execution_count": 75,
   "metadata": {},
   "outputs": [
    {
     "name": "stdout",
     "output_type": "stream",
     "text": [
      "1er Cuartil (Q1): 5.816666666666666 minutos\n",
      "3er Cuartil (Q3): 18.466666666666665 minutos\n",
      "Rango Intercuartílico (IQR): 12.649999999999999 minutos\n"
     ]
    }
   ],
   "source": [
    "# Cuantiles\n",
    "q1 = duration_minutes.quantile(0.25)\n",
    "q3 = duration_minutes.quantile(0.75)\n",
    "iqr = q3 - q1\n",
    "\n",
    "print(f\"1er Cuartil (Q1): {q1} minutos\")\n",
    "print(f\"3er Cuartil (Q3): {q3} minutos\")\n",
    "print(f\"Rango Intercuartílico (IQR): {iqr} minutos\")\n"
   ]
  },
  {
   "cell_type": "code",
   "execution_count": 79,
   "metadata": {},
   "outputs": [
    {
     "name": "stdout",
     "output_type": "stream",
     "text": [
      "Límite inferior para valores extremos: -13.158333333333331 minutos\n",
      "Límite superior para valores extremos: 37.44166666666666 minutos\n"
     ]
    }
   ],
   "source": [
    "# Límites para identificar valores extremos\n",
    "lower_limit_iqr = q1 - 1.5 * iqr\n",
    "upper_limit_iqr = q3 + 1.5 * iqr\n",
    "\n",
    "print(f\"Límite inferior para valores extremos: {lower_limit_iqr} minutos\")\n",
    "print(f\"Límite superior para valores extremos: {upper_limit_iqr} minutos\")\n",
    "\n",
    "\n",
    "# Pendiente terminar de calcular los limites y filtrar el df con los limites. posiblemente el limite inferior sea un corte manual en 3'ArithmeticError"
   ]
  },
  {
   "cell_type": "code",
   "execution_count": null,
   "metadata": {},
   "outputs": [],
   "source": [
    "connection_string.close()\n"
   ]
  }
 ],
 "metadata": {
  "kernelspec": {
   "display_name": "Python 3",
   "language": "python",
   "name": "python3"
  },
  "language_info": {
   "codemirror_mode": {
    "name": "ipython",
    "version": 3
   },
   "file_extension": ".py",
   "mimetype": "text/x-python",
   "name": "python",
   "nbconvert_exporter": "python",
   "pygments_lexer": "ipython3",
   "version": "3.9.6"
  }
 },
 "nbformat": 4,
 "nbformat_minor": 2
}
